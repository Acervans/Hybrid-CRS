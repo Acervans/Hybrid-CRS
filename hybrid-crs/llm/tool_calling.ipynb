{
 "cells": [
  {
   "cell_type": "code",
   "execution_count": 1,
   "metadata": {},
   "outputs": [],
   "source": [
    "from tool import Tool\n",
    "\n",
    "import ollama\n",
    "import openai\n",
    "import json"
   ]
  },
  {
   "cell_type": "code",
   "execution_count": 2,
   "metadata": {},
   "outputs": [],
   "source": [
    "openai.base_url = \"http://localhost:11434/v1\"\n",
    "openai.api_key = 'ollama'\n",
    "\n",
    "client = ollama.Client()"
   ]
  },
  {
   "cell_type": "code",
   "execution_count": 3,
   "metadata": {},
   "outputs": [],
   "source": [
    "### FUNCTION DEFINITION ###\n",
    "\n",
    "import ast\n",
    "\n",
    "def add_numbers(numbers: list[float]) -> float:\n",
    "    if isinstance(numbers, str):\n",
    "        numbers = ast.literal_eval(numbers)\n",
    "    return sum(map(float, numbers))"
   ]
  },
  {
   "cell_type": "code",
   "execution_count": 4,
   "metadata": {},
   "outputs": [],
   "source": [
    "tools = {\n",
    "    'add_numbers': Tool(\n",
    "        definition={\n",
    "            'type': 'function',\n",
    "            'function': {\n",
    "                'name': 'add_numbers',\n",
    "                'description': 'Adds the values of all numbers in the list `numbers`',\n",
    "                'parameters': {\n",
    "                    'type': 'object',\n",
    "                    'properties': {\n",
    "                        'numbers': {\n",
    "                            'type': 'list[float]',\n",
    "                            'description': 'A list of real numbers',\n",
    "                        },\n",
    "                    },\n",
    "                    'required': ['numbers'],\n",
    "                },\n",
    "            }},\n",
    "        function=add_numbers\n",
    "    ),\n",
    "}\n",
    "\n",
    "\n",
    "def tool_defs(): return [x.definition for x in tools.values()]"
   ]
  },
  {
   "cell_type": "code",
   "execution_count": 5,
   "metadata": {},
   "outputs": [],
   "source": [
    "def generate_tool_outputs(tool_calls):\n",
    "    tool_outputs = []\n",
    "\n",
    "    for tool_call in tool_calls:\n",
    "        function_name = tool_call['function']['name']\n",
    "        arguments = tool_call['function']['arguments']\n",
    "\n",
    "        if function_name in tools:\n",
    "            output = tools[function_name].call(**arguments)\n",
    "            print(f'Tool output ({function_name}{arguments}): {output}')\n",
    "            tool_outputs.append({\n",
    "                'role': 'tool',\n",
    "                'name': function_name,\n",
    "                # 'content': str(output),\n",
    "                'content': json.dumps(f\"{function_name}({arguments}): {str(output)}\")\n",
    "            })\n",
    "\n",
    "    return tool_outputs\n"
   ]
  },
  {
   "cell_type": "code",
   "execution_count": 6,
   "metadata": {},
   "outputs": [],
   "source": [
    "def run_assistant(model, message):\n",
    "    chat_messages = [\n",
    "        {\n",
    "            \"role\": \"user\",\n",
    "            \"content\": message,\n",
    "        }\n",
    "    ]\n",
    "\n",
    "    res = client.chat(\n",
    "        model=model,\n",
    "        messages=chat_messages,\n",
    "        tools=tool_defs(),\n",
    "    )\n",
    "\n",
    "    print(json.dumps(res, indent=2))\n",
    "\n",
    "    msg = res['message']\n",
    "\n",
    "    # Check if the model called tools\n",
    "    if msg.get('tool_calls'):\n",
    "        print(msg['tool_calls'])\n",
    "        tool_outputs = generate_tool_outputs(msg['tool_calls'])\n",
    "        # chat_messages.append(msg)\n",
    "        chat_messages.extend(tool_outputs)\n",
    "\n",
    "        for chunk in client.chat(\n",
    "            model=model,\n",
    "            messages=chat_messages,\n",
    "            stream=True\n",
    "        ):\n",
    "            print(chunk['message']['content'], end='', flush=True)\n",
    "\n",
    "    else:\n",
    "        print(msg['content'])"
   ]
  },
  {
   "cell_type": "code",
   "execution_count": 48,
   "metadata": {},
   "outputs": [
    {
     "name": "stdout",
     "output_type": "stream",
     "text": [
      "{\n",
      "  \"model\": \"qwen2.5:3b\",\n",
      "  \"created_at\": \"2024-10-15T04:13:50.140635835Z\",\n",
      "  \"message\": {\n",
      "    \"role\": \"assistant\",\n",
      "    \"content\": \"Hello! How can I assist you today?\"\n",
      "  },\n",
      "  \"done_reason\": \"stop\",\n",
      "  \"done\": true,\n",
      "  \"total_duration\": 322068724,\n",
      "  \"load_duration\": 14925026,\n",
      "  \"prompt_eval_count\": 172,\n",
      "  \"prompt_eval_duration\": 27187000,\n",
      "  \"eval_count\": 10,\n",
      "  \"eval_duration\": 150015000\n",
      "}\n",
      "Hello! How can I assist you today?\n"
     ]
    }
   ],
   "source": [
    "# run_assistant(\"llama3.1-function-calling\", \"What's 1 + 2 + 3 + 4 + 5 + 6 + 7 + 8 + 9 + 10 + 999 + 19241284176?\")\n",
    "# run_assistant(\"llama3.1-function-calling\", \"Hi, what's up!\")\n",
    "\n",
    "# run_assistant(\"qwen2\", \"What's 1 + 2 + 3 + 4 + 5 + 6 + 7 + 8 + 9 + 10 + 999 + 19241284176?\")\n",
    "# run_assistant(\"qwen2\", \"Hi, what's up!\")\n",
    "\n",
    "# run_assistant(\"qwen2.5:3b\", \"What's 1 + 2 + 3 + 4 + 5 + 6 + 7 + 8 + 9 + 10 + 999 + 19241284176?\")\n",
    "run_assistant(\"qwen2.5:3b\", \"Hi, what's up!\")\n",
    "\n",
    "# run_assistant(\"qwen2.5\", \"What's 1 + 2 + 3 + 4 + 5 + 6 + 7 + 8 + 9 + 10 + 999 + 19241284176?\")\n",
    "# run_assistant(\"qwen2.5\", \"Hi, what's up!\")\n",
    "\n",
    "# run_assistant(\"llama3.2\", \"What's 1 + 2 + 3 + 4 + 5 + 6 + 7 + 8 + 9 + 10 + 999 + 19241284176?\")"
   ]
  }
 ],
 "metadata": {
  "kernelspec": {
   "display_name": "hybrid-crs",
   "language": "python",
   "name": "python3"
  },
  "language_info": {
   "codemirror_mode": {
    "name": "ipython",
    "version": 3
   },
   "file_extension": ".py",
   "mimetype": "text/x-python",
   "name": "python",
   "nbconvert_exporter": "python",
   "pygments_lexer": "ipython3",
   "version": "3.10.14"
  }
 },
 "nbformat": 4,
 "nbformat_minor": 2
}
