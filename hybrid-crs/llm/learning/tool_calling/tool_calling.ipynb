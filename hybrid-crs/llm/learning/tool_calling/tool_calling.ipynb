{
 "cells": [
  {
   "cell_type": "code",
   "execution_count": 8,
   "metadata": {},
   "outputs": [],
   "source": [
    "from tool import Tool\n",
    "\n",
    "import ollama\n",
    "import openai\n",
    "import json"
   ]
  },
  {
   "cell_type": "code",
   "execution_count": 9,
   "metadata": {},
   "outputs": [],
   "source": [
    "openai.base_url = \"http://localhost:11434/v1\"\n",
    "openai.api_key = 'ollama'\n",
    "\n",
    "client = ollama.Client()"
   ]
  },
  {
   "cell_type": "code",
   "execution_count": 10,
   "metadata": {},
   "outputs": [],
   "source": [
    "### FUNCTION DEFINITION ###\n",
    "\n",
    "import ast\n",
    "\n",
    "def add_numbers(numbers: list[float]) -> float:\n",
    "    if isinstance(numbers, str):\n",
    "        numbers = ast.literal_eval(numbers)\n",
    "    return sum(map(float, numbers))"
   ]
  },
  {
   "cell_type": "code",
   "execution_count": 11,
   "metadata": {},
   "outputs": [],
   "source": [
    "tools = {\n",
    "    'add_numbers': Tool(\n",
    "        definition={\n",
    "            'type': 'function',\n",
    "            'function': {\n",
    "                'name': 'add_numbers',\n",
    "                'description': 'Adds the values of all numbers in the list `numbers`',\n",
    "                'parameters': {\n",
    "                    'type': 'object',\n",
    "                    'properties': {\n",
    "                        'numbers': {\n",
    "                            'type': 'list[float]',\n",
    "                            'description': 'A list of real numbers',\n",
    "                        },\n",
    "                    },\n",
    "                    'required': ['numbers'],\n",
    "                },\n",
    "            }},\n",
    "        function=add_numbers\n",
    "    ),\n",
    "}\n",
    "\n",
    "\n",
    "def tool_defs(): return [x.definition for x in tools.values()]"
   ]
  },
  {
   "cell_type": "code",
   "execution_count": 12,
   "metadata": {},
   "outputs": [],
   "source": [
    "def generate_tool_outputs(tool_calls):\n",
    "    tool_outputs = []\n",
    "\n",
    "    for tool_call in tool_calls:\n",
    "        function_name = tool_call['function']['name']\n",
    "        arguments = tool_call['function']['arguments']\n",
    "\n",
    "        if function_name in tools:\n",
    "            output = tools[function_name].call(**arguments)\n",
    "            print(f'Tool output ({function_name}{arguments}): {output}')\n",
    "            tool_outputs.append({\n",
    "                'role': 'tool',\n",
    "                'name': function_name,\n",
    "                # 'content': str(output),\n",
    "                'content': json.dumps(f\"{function_name}({arguments}): {str(output)}\")\n",
    "            })\n",
    "\n",
    "    return tool_outputs\n"
   ]
  },
  {
   "cell_type": "code",
   "execution_count": 13,
   "metadata": {},
   "outputs": [],
   "source": [
    "def run_assistant(model, message):\n",
    "    chat_messages = [\n",
    "        {\n",
    "            \"role\": \"user\",\n",
    "            \"content\": message,\n",
    "        }\n",
    "    ]\n",
    "\n",
    "    res = client.chat(\n",
    "        model=model,\n",
    "        messages=chat_messages,\n",
    "        tools=tool_defs(),\n",
    "    )\n",
    "\n",
    "    print(json.dumps(res.model_dump_json(), indent=2))\n",
    "\n",
    "    msg = res['message']\n",
    "\n",
    "    # Check if the model called tools\n",
    "    if msg.get('tool_calls'):\n",
    "        print(msg['tool_calls'])\n",
    "        tool_outputs = generate_tool_outputs(msg['tool_calls'])\n",
    "        # chat_messages.append(msg)\n",
    "        chat_messages.extend(tool_outputs)\n",
    "\n",
    "        for chunk in client.chat(\n",
    "            model=model,\n",
    "            messages=chat_messages,\n",
    "            stream=True\n",
    "        ):\n",
    "            print(chunk['message']['content'], end='', flush=True)\n",
    "\n",
    "    else:\n",
    "        print(msg['content'])"
   ]
  },
  {
   "cell_type": "code",
   "execution_count": 14,
   "metadata": {},
   "outputs": [
    {
     "name": "stdout",
     "output_type": "stream",
     "text": [
      "\"{\\\"model\\\":\\\"qwen2.5:3b\\\",\\\"created_at\\\":\\\"2025-05-28T22:08:13.084423003Z\\\",\\\"done\\\":true,\\\"done_reason\\\":\\\"stop\\\",\\\"total_duration\\\":1872848667,\\\"load_duration\\\":26762672,\\\"prompt_eval_count\\\":217,\\\"prompt_eval_duration\\\":19328304,\\\"eval_count\\\":91,\\\"eval_duration\\\":1801095579,\\\"message\\\":{\\\"role\\\":\\\"assistant\\\",\\\"content\\\":\\\"\\\",\\\"images\\\":null,\\\"tool_calls\\\":[{\\\"function\\\":{\\\"name\\\":\\\"add_numbers\\\",\\\"arguments\\\":{\\\"numbers\\\":[1,2,3,4,5,6,7,8,9,10,999,19241284176]}}}]}}\"\n",
      "[ToolCall(function=Function(name='add_numbers', arguments={'numbers': [1, 2, 3, 4, 5, 6, 7, 8, 9, 10, 999, 19241284176]}))]\n",
      "Tool output (add_numbers{'numbers': [1, 2, 3, 4, 5, 6, 7, 8, 9, 10, 999, 19241284176]}): 19241285230.0\n",
      "The sum of the numbers 1 + 2 + 3 + 4 + 5 + 6 + 7 + 8 + 9 + 10 + 999 + 19241284176 is 19241285230.0."
     ]
    }
   ],
   "source": [
    "run_assistant(\"qwen2.5:3b\", \"What's 1 + 2 + 3 + 4 + 5 + 6 + 7 + 8 + 9 + 10 + 999 + 19241284176?\")"
   ]
  }
 ],
 "metadata": {
  "kernelspec": {
   "display_name": "hybrid-crs",
   "language": "python",
   "name": "python3"
  },
  "language_info": {
   "codemirror_mode": {
    "name": "ipython",
    "version": 3
   },
   "file_extension": ".py",
   "mimetype": "text/x-python",
   "name": "python",
   "nbconvert_exporter": "python",
   "pygments_lexer": "ipython3",
   "version": "3.12.7"
  }
 },
 "nbformat": 4,
 "nbformat_minor": 2
}
